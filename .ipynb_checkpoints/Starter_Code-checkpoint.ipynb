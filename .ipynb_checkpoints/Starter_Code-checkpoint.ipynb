{
 "cells": [
  {
   "cell_type": "markdown",
   "metadata": {},
   "source": [
    "## Preprocessing"
   ]
  },
  {
   "cell_type": "code",
   "execution_count": 1,
   "metadata": {},
   "outputs": [
    {
     "name": "stdout",
     "output_type": "stream",
     "text": [
      "WARNING:tensorflow:From C:\\Users\\sixni\\anaconda3\\Lib\\site-packages\\keras\\src\\losses.py:2976: The name tf.losses.sparse_softmax_cross_entropy is deprecated. Please use tf.compat.v1.losses.sparse_softmax_cross_entropy instead.\n",
      "\n"
     ]
    },
    {
     "data": {
      "text/html": [
       "<div>\n",
       "<style scoped>\n",
       "    .dataframe tbody tr th:only-of-type {\n",
       "        vertical-align: middle;\n",
       "    }\n",
       "\n",
       "    .dataframe tbody tr th {\n",
       "        vertical-align: top;\n",
       "    }\n",
       "\n",
       "    .dataframe thead th {\n",
       "        text-align: right;\n",
       "    }\n",
       "</style>\n",
       "<table border=\"1\" class=\"dataframe\">\n",
       "  <thead>\n",
       "    <tr style=\"text-align: right;\">\n",
       "      <th></th>\n",
       "      <th>EIN</th>\n",
       "      <th>NAME</th>\n",
       "      <th>APPLICATION_TYPE</th>\n",
       "      <th>AFFILIATION</th>\n",
       "      <th>CLASSIFICATION</th>\n",
       "      <th>USE_CASE</th>\n",
       "      <th>ORGANIZATION</th>\n",
       "      <th>STATUS</th>\n",
       "      <th>INCOME_AMT</th>\n",
       "      <th>SPECIAL_CONSIDERATIONS</th>\n",
       "      <th>ASK_AMT</th>\n",
       "      <th>IS_SUCCESSFUL</th>\n",
       "    </tr>\n",
       "  </thead>\n",
       "  <tbody>\n",
       "    <tr>\n",
       "      <th>0</th>\n",
       "      <td>10520599</td>\n",
       "      <td>BLUE KNIGHTS MOTORCYCLE CLUB</td>\n",
       "      <td>T10</td>\n",
       "      <td>Independent</td>\n",
       "      <td>C1000</td>\n",
       "      <td>ProductDev</td>\n",
       "      <td>Association</td>\n",
       "      <td>1</td>\n",
       "      <td>0</td>\n",
       "      <td>N</td>\n",
       "      <td>5000</td>\n",
       "      <td>1</td>\n",
       "    </tr>\n",
       "    <tr>\n",
       "      <th>1</th>\n",
       "      <td>10531628</td>\n",
       "      <td>AMERICAN CHESAPEAKE CLUB CHARITABLE TR</td>\n",
       "      <td>T3</td>\n",
       "      <td>Independent</td>\n",
       "      <td>C2000</td>\n",
       "      <td>Preservation</td>\n",
       "      <td>Co-operative</td>\n",
       "      <td>1</td>\n",
       "      <td>1-9999</td>\n",
       "      <td>N</td>\n",
       "      <td>108590</td>\n",
       "      <td>1</td>\n",
       "    </tr>\n",
       "    <tr>\n",
       "      <th>2</th>\n",
       "      <td>10547893</td>\n",
       "      <td>ST CLOUD PROFESSIONAL FIREFIGHTERS</td>\n",
       "      <td>T5</td>\n",
       "      <td>CompanySponsored</td>\n",
       "      <td>C3000</td>\n",
       "      <td>ProductDev</td>\n",
       "      <td>Association</td>\n",
       "      <td>1</td>\n",
       "      <td>0</td>\n",
       "      <td>N</td>\n",
       "      <td>5000</td>\n",
       "      <td>0</td>\n",
       "    </tr>\n",
       "    <tr>\n",
       "      <th>3</th>\n",
       "      <td>10553066</td>\n",
       "      <td>SOUTHSIDE ATHLETIC ASSOCIATION</td>\n",
       "      <td>T3</td>\n",
       "      <td>CompanySponsored</td>\n",
       "      <td>C2000</td>\n",
       "      <td>Preservation</td>\n",
       "      <td>Trust</td>\n",
       "      <td>1</td>\n",
       "      <td>10000-24999</td>\n",
       "      <td>N</td>\n",
       "      <td>6692</td>\n",
       "      <td>1</td>\n",
       "    </tr>\n",
       "    <tr>\n",
       "      <th>4</th>\n",
       "      <td>10556103</td>\n",
       "      <td>GENETIC RESEARCH INSTITUTE OF THE DESERT</td>\n",
       "      <td>T3</td>\n",
       "      <td>Independent</td>\n",
       "      <td>C1000</td>\n",
       "      <td>Heathcare</td>\n",
       "      <td>Trust</td>\n",
       "      <td>1</td>\n",
       "      <td>100000-499999</td>\n",
       "      <td>N</td>\n",
       "      <td>142590</td>\n",
       "      <td>1</td>\n",
       "    </tr>\n",
       "  </tbody>\n",
       "</table>\n",
       "</div>"
      ],
      "text/plain": [
       "        EIN                                      NAME APPLICATION_TYPE  \\\n",
       "0  10520599              BLUE KNIGHTS MOTORCYCLE CLUB              T10   \n",
       "1  10531628    AMERICAN CHESAPEAKE CLUB CHARITABLE TR               T3   \n",
       "2  10547893        ST CLOUD PROFESSIONAL FIREFIGHTERS               T5   \n",
       "3  10553066            SOUTHSIDE ATHLETIC ASSOCIATION               T3   \n",
       "4  10556103  GENETIC RESEARCH INSTITUTE OF THE DESERT               T3   \n",
       "\n",
       "        AFFILIATION CLASSIFICATION      USE_CASE  ORGANIZATION  STATUS  \\\n",
       "0       Independent          C1000    ProductDev   Association       1   \n",
       "1       Independent          C2000  Preservation  Co-operative       1   \n",
       "2  CompanySponsored          C3000    ProductDev   Association       1   \n",
       "3  CompanySponsored          C2000  Preservation         Trust       1   \n",
       "4       Independent          C1000     Heathcare         Trust       1   \n",
       "\n",
       "      INCOME_AMT SPECIAL_CONSIDERATIONS  ASK_AMT  IS_SUCCESSFUL  \n",
       "0              0                      N     5000              1  \n",
       "1         1-9999                      N   108590              1  \n",
       "2              0                      N     5000              0  \n",
       "3    10000-24999                      N     6692              1  \n",
       "4  100000-499999                      N   142590              1  "
      ]
     },
     "execution_count": 1,
     "metadata": {},
     "output_type": "execute_result"
    }
   ],
   "source": [
    "# Import our dependencies\n",
    "from sklearn.model_selection import train_test_split\n",
    "from sklearn.preprocessing import StandardScaler\n",
    "import pandas as pd\n",
    "import tensorflow as tf\n",
    "\n",
    "#  Import and read the charity_data.csv.\n",
    "import pandas as pd \n",
    "application_df = pd.read_csv(\"https://static.bc-edx.com/data/dl-1-2/m21/lms/starter/charity_data.csv\")\n",
    "application_df.head()"
   ]
  },
  {
   "cell_type": "code",
   "execution_count": 2,
   "metadata": {},
   "outputs": [],
   "source": [
    "# Drop the non-beneficial ID columns, 'EIN' and 'NAME'.\n",
    "#  YOUR CODE GOES HERE\n",
    "application_df = application_df.drop(['EIN', 'NAME'], axis=1)\n"
   ]
  },
  {
   "cell_type": "code",
   "execution_count": 3,
   "metadata": {},
   "outputs": [
    {
     "name": "stdout",
     "output_type": "stream",
     "text": [
      "APPLICATION_TYPE            17\n",
      "AFFILIATION                  6\n",
      "CLASSIFICATION              71\n",
      "USE_CASE                     5\n",
      "ORGANIZATION                 4\n",
      "STATUS                       2\n",
      "INCOME_AMT                   9\n",
      "SPECIAL_CONSIDERATIONS       2\n",
      "ASK_AMT                   8747\n",
      "IS_SUCCESSFUL                2\n",
      "dtype: int64\n"
     ]
    }
   ],
   "source": [
    "# Determine the number of unique values in each column.\n",
    "#  YOUR CODE GOES HERE\n",
    "unique_values = application_df.nunique()\n",
    "print(unique_values)\n"
   ]
  },
  {
   "cell_type": "code",
   "execution_count": 4,
   "metadata": {},
   "outputs": [
    {
     "name": "stdout",
     "output_type": "stream",
     "text": [
      "APPLICATION_TYPE\n",
      "T3     27037\n",
      "T4      1542\n",
      "T6      1216\n",
      "T5      1173\n",
      "T19     1065\n",
      "T8       737\n",
      "T7       725\n",
      "T10      528\n",
      "T9       156\n",
      "T13       66\n",
      "T12       27\n",
      "T2        16\n",
      "T25        3\n",
      "T14        3\n",
      "T29        2\n",
      "T15        2\n",
      "T17        1\n",
      "Name: count, dtype: int64\n"
     ]
    }
   ],
   "source": [
    "# Look at APPLICATION_TYPE value counts for binning\n",
    "#  YOUR CODE GOES HERE\n",
    "application_type_counts = application_df['APPLICATION_TYPE'].value_counts()\n",
    "print(application_type_counts)\n"
   ]
  },
  {
   "cell_type": "code",
   "execution_count": 5,
   "metadata": {},
   "outputs": [
    {
     "name": "stdout",
     "output_type": "stream",
     "text": [
      "['T9', 'T13', 'T12', 'T2', 'T25', 'T14', 'T29', 'T15', 'T17']\n"
     ]
    },
    {
     "data": {
      "text/plain": [
       "APPLICATION_TYPE\n",
       "T3       27037\n",
       "T4        1542\n",
       "T6        1216\n",
       "T5        1173\n",
       "T19       1065\n",
       "T8         737\n",
       "T7         725\n",
       "T10        528\n",
       "Other      276\n",
       "Name: count, dtype: int64"
      ]
     },
     "execution_count": 5,
     "metadata": {},
     "output_type": "execute_result"
    }
   ],
   "source": [
    "# Choose a cutoff value and create a list of application types to be replaced\n",
    "# use the variable name `application_types_to_replace`\n",
    "#  YOUR CODE GOES HERE\n",
    "# Assuming the cutoff is 500 occurrences\n",
    "cutoff = 500\n",
    "application_types_to_replace = [app_type for app_type, count in application_df['APPLICATION_TYPE'].value_counts().items() if count < cutoff]\n",
    "\n",
    "print(application_types_to_replace)\n",
    "\n",
    "\n",
    "# Replace in dataframe\n",
    "for app in application_types_to_replace:\n",
    "    application_df['APPLICATION_TYPE'] = application_df['APPLICATION_TYPE'].replace(app,\"Other\")\n",
    "\n",
    "# Check to make sure binning was successful\n",
    "application_df['APPLICATION_TYPE'].value_counts()"
   ]
  },
  {
   "cell_type": "code",
   "execution_count": 6,
   "metadata": {},
   "outputs": [
    {
     "name": "stdout",
     "output_type": "stream",
     "text": [
      "CLASSIFICATION\n",
      "C1000    17326\n",
      "C2000     6074\n",
      "C1200     4837\n",
      "C3000     1918\n",
      "C2100     1883\n",
      "         ...  \n",
      "C4120        1\n",
      "C8210        1\n",
      "C2561        1\n",
      "C4500        1\n",
      "C2150        1\n",
      "Name: count, Length: 71, dtype: int64\n"
     ]
    }
   ],
   "source": [
    "# Look at CLASSIFICATION value counts for binning\n",
    "#  YOUR CODE GOES HERE\n",
    "classification_counts = application_df['CLASSIFICATION'].value_counts()\n",
    "print(classification_counts)\n"
   ]
  },
  {
   "cell_type": "code",
   "execution_count": 7,
   "metadata": {},
   "outputs": [
    {
     "name": "stdout",
     "output_type": "stream",
     "text": [
      "CLASSIFICATION\n",
      "C1000    17326\n",
      "C2000     6074\n",
      "C1200     4837\n",
      "C3000     1918\n",
      "C2100     1883\n",
      "C7000      777\n",
      "C1700      287\n",
      "C4000      194\n",
      "C5000      116\n",
      "C1270      114\n",
      "C2700      104\n",
      "C2800       95\n",
      "C7100       75\n",
      "C1300       58\n",
      "C1280       50\n",
      "C1230       36\n",
      "C1400       34\n",
      "C7200       32\n",
      "C2300       32\n",
      "C1240       30\n",
      "C8000       20\n",
      "C7120       18\n",
      "C1500       16\n",
      "C1800       15\n",
      "C6000       15\n",
      "C1250       14\n",
      "C8200       11\n",
      "C1238       10\n",
      "C1278       10\n",
      "C1235        9\n",
      "C1237        9\n",
      "C7210        7\n",
      "C2400        6\n",
      "C1720        6\n",
      "C4100        6\n",
      "C1257        5\n",
      "C1600        5\n",
      "C1260        3\n",
      "C2710        3\n",
      "C0           3\n",
      "C3200        2\n",
      "C1234        2\n",
      "C1246        2\n",
      "C1267        2\n",
      "C1256        2\n",
      "Name: count, dtype: int64\n"
     ]
    }
   ],
   "source": [
    "# You may find it helpful to look at CLASSIFICATION value counts >1\n",
    "#  YOUR CODE GOES HERE\n",
    "# Filter CLASSIFICATION value counts to only include counts greater than 1\n",
    "classification_counts = application_df['CLASSIFICATION'].value_counts()\n",
    "classification_counts_gt1 = classification_counts[classification_counts > 1]\n",
    "\n",
    "print(classification_counts_gt1)\n"
   ]
  },
  {
   "cell_type": "code",
   "execution_count": 8,
   "metadata": {},
   "outputs": [
    {
     "name": "stdout",
     "output_type": "stream",
     "text": [
      "['C2800', 'C7100', 'C1300', 'C1280', 'C1230', 'C1400', 'C7200', 'C2300', 'C1240', 'C8000', 'C7120', 'C1500', 'C1800', 'C6000', 'C1250', 'C8200', 'C1238', 'C1278', 'C1235', 'C1237', 'C7210', 'C2400', 'C1720', 'C4100', 'C1257', 'C1600', 'C1260', 'C2710', 'C0', 'C3200', 'C1234', 'C1246', 'C1267', 'C1256', 'C2190', 'C4200', 'C2600', 'C5200', 'C1370', 'C1248', 'C6100', 'C1820', 'C1900', 'C1236', 'C3700', 'C2570', 'C1580', 'C1245', 'C2500', 'C1570', 'C1283', 'C2380', 'C1732', 'C1728', 'C2170', 'C4120', 'C8210', 'C2561', 'C4500', 'C2150']\n"
     ]
    },
    {
     "data": {
      "text/plain": [
       "CLASSIFICATION\n",
       "C1000    17326\n",
       "C2000     6074\n",
       "C1200     4837\n",
       "C3000     1918\n",
       "C2100     1883\n",
       "C7000      777\n",
       "Other      669\n",
       "C1700      287\n",
       "C4000      194\n",
       "C5000      116\n",
       "C1270      114\n",
       "C2700      104\n",
       "Name: count, dtype: int64"
      ]
     },
     "execution_count": 8,
     "metadata": {},
     "output_type": "execute_result"
    }
   ],
   "source": [
    "# Choose a cutoff value and create a list of classifications to be replaced\n",
    "# use the variable name `classifications_to_replace`\n",
    "#  YOUR CODE GOES HERE\n",
    "cutoff = 100\n",
    "classifications_to_replace = [classification for classification, count in application_df['CLASSIFICATION'].value_counts().items() if count < cutoff]\n",
    "\n",
    "print(classifications_to_replace)\n",
    "\n",
    "\n",
    "# Replace in dataframe\n",
    "for cls in classifications_to_replace:\n",
    "    application_df['CLASSIFICATION'] = application_df['CLASSIFICATION'].replace(cls,\"Other\")\n",
    "    \n",
    "# Check to make sure binning was successful\n",
    "application_df['CLASSIFICATION'].value_counts()"
   ]
  },
  {
   "cell_type": "code",
   "execution_count": 9,
   "metadata": {},
   "outputs": [],
   "source": [
    "# Convert categorical data to numeric with `pd.get_dummies`\n",
    "#  YOUR CODE GOES HERE\n",
    "application_df_encoded = pd.get_dummies(application_df)"
   ]
  },
  {
   "cell_type": "code",
   "execution_count": 11,
   "metadata": {},
   "outputs": [],
   "source": [
    "# Split our preprocessed data into our features and target arrays\n",
    "#  YOUR CODE GOES HERE\n",
    "X = application_df_encoded.drop(['IS_SUCCESSFUL'], axis=1)\n",
    "y = application_df_encoded['IS_SUCCESSFUL']\n",
    "\n",
    "# Split the preprocessed data into a training and testing dataset\n",
    "#  YOUR CODE GOES HERE\n",
    "X_train, X_test, y_train, y_test = train_test_split(X, y, test_size=0.2, random_state=42)"
   ]
  },
  {
   "cell_type": "code",
   "execution_count": 12,
   "metadata": {},
   "outputs": [],
   "source": [
    "# Create a StandardScaler instances\n",
    "scaler = StandardScaler()\n",
    "\n",
    "# Fit the StandardScaler\n",
    "X_scaler = scaler.fit(X_train)\n",
    "\n",
    "# Scale the data\n",
    "X_train_scaled = X_scaler.transform(X_train)\n",
    "X_test_scaled = X_scaler.transform(X_test)"
   ]
  },
  {
   "cell_type": "markdown",
   "metadata": {},
   "source": [
    "## Compile, Train and Evaluate the Model"
   ]
  },
  {
   "cell_type": "code",
   "execution_count": 15,
   "metadata": {},
   "outputs": [
    {
     "name": "stdout",
     "output_type": "stream",
     "text": [
      "Model: \"sequential_2\"\n",
      "_________________________________________________________________\n",
      " Layer (type)                Output Shape              Param #   \n",
      "=================================================================\n",
      " dense_6 (Dense)             (None, 80)                4000      \n",
      "                                                                 \n",
      " dense_7 (Dense)             (None, 30)                2430      \n",
      "                                                                 \n",
      " dense_8 (Dense)             (None, 1)                 31        \n",
      "                                                                 \n",
      "=================================================================\n",
      "Total params: 6461 (25.24 KB)\n",
      "Trainable params: 6461 (25.24 KB)\n",
      "Non-trainable params: 0 (0.00 Byte)\n",
      "_________________________________________________________________\n"
     ]
    }
   ],
   "source": [
    "# Define the model - deep neural net, i.e., the number of input features and hidden nodes for each layer.\n",
    "number_input_features = X_train.shape[1]\n",
    "hidden_nodes_layer1 = 80\n",
    "hidden_nodes_layer2 = 30\n",
    "\n",
    "nn = tf.keras.models.Sequential()\n",
    "\n",
    "# First hidden layer\n",
    "nn.add(tf.keras.layers.Dense(units=hidden_nodes_layer1, input_dim=number_input_features, activation='relu'))\n",
    "\n",
    "# Second hidden layer\n",
    "nn.add(tf.keras.layers.Dense(units=hidden_nodes_layer2, activation='relu'))\n",
    "\n",
    "# Output layer\n",
    "nn.add(tf.keras.layers.Dense(units=1, activation='sigmoid'))\n",
    "\n",
    "# Check the structure of the model\n",
    "nn.summary()\n"
   ]
  },
  {
   "cell_type": "code",
   "execution_count": 16,
   "metadata": {},
   "outputs": [
    {
     "name": "stdout",
     "output_type": "stream",
     "text": [
      "WARNING:tensorflow:From C:\\Users\\sixni\\anaconda3\\Lib\\site-packages\\keras\\src\\optimizers\\__init__.py:309: The name tf.train.Optimizer is deprecated. Please use tf.compat.v1.train.Optimizer instead.\n",
      "\n"
     ]
    }
   ],
   "source": [
    "# Compile the model\n",
    "nn.compile(optimizer='adam', loss='binary_crossentropy', metrics=['accuracy'])\n"
   ]
  },
  {
   "cell_type": "code",
   "execution_count": 18,
   "metadata": {},
   "outputs": [
    {
     "name": "stdout",
     "output_type": "stream",
     "text": [
      "Epoch 1/100\n",
      "WARNING:tensorflow:From C:\\Users\\sixni\\anaconda3\\Lib\\site-packages\\keras\\src\\utils\\tf_utils.py:492: The name tf.ragged.RaggedTensorValue is deprecated. Please use tf.compat.v1.ragged.RaggedTensorValue instead.\n",
      "\n",
      "WARNING:tensorflow:From C:\\Users\\sixni\\anaconda3\\Lib\\site-packages\\keras\\src\\engine\\base_layer_utils.py:384: The name tf.executing_eagerly_outside_functions is deprecated. Please use tf.compat.v1.executing_eagerly_outside_functions instead.\n",
      "\n",
      "686/686 [==============================] - 1s 1ms/step - loss: 0.5753 - accuracy: 0.7151 - val_loss: 0.5488 - val_accuracy: 0.7376\n",
      "Epoch 2/100\n",
      "686/686 [==============================] - 1s 846us/step - loss: 0.5553 - accuracy: 0.7264 - val_loss: 0.5455 - val_accuracy: 0.7376\n",
      "Epoch 3/100\n",
      "686/686 [==============================] - 1s 848us/step - loss: 0.5543 - accuracy: 0.7270 - val_loss: 0.5497 - val_accuracy: 0.7334\n",
      "Epoch 4/100\n",
      "686/686 [==============================] - 1s 847us/step - loss: 0.5510 - accuracy: 0.7278 - val_loss: 0.5465 - val_accuracy: 0.7396\n",
      "Epoch 5/100\n",
      "686/686 [==============================] - 1s 860us/step - loss: 0.5504 - accuracy: 0.7282 - val_loss: 0.5438 - val_accuracy: 0.7391\n",
      "Epoch 6/100\n",
      "686/686 [==============================] - 1s 858us/step - loss: 0.5485 - accuracy: 0.7299 - val_loss: 0.5432 - val_accuracy: 0.7376\n",
      "Epoch 7/100\n",
      "686/686 [==============================] - 1s 855us/step - loss: 0.5480 - accuracy: 0.7304 - val_loss: 0.5441 - val_accuracy: 0.7352\n",
      "Epoch 8/100\n",
      "686/686 [==============================] - 1s 882us/step - loss: 0.5463 - accuracy: 0.7304 - val_loss: 0.5465 - val_accuracy: 0.7362\n",
      "Epoch 9/100\n",
      "686/686 [==============================] - 1s 870us/step - loss: 0.5463 - accuracy: 0.7323 - val_loss: 0.5455 - val_accuracy: 0.7382\n",
      "Epoch 10/100\n",
      "686/686 [==============================] - 1s 857us/step - loss: 0.5455 - accuracy: 0.7314 - val_loss: 0.5440 - val_accuracy: 0.7362\n",
      "Epoch 11/100\n",
      "686/686 [==============================] - 1s 860us/step - loss: 0.5449 - accuracy: 0.7313 - val_loss: 0.5471 - val_accuracy: 0.7372\n",
      "Epoch 12/100\n",
      "686/686 [==============================] - 1s 878us/step - loss: 0.5448 - accuracy: 0.7314 - val_loss: 0.5478 - val_accuracy: 0.7383\n",
      "Epoch 13/100\n",
      "686/686 [==============================] - 1s 852us/step - loss: 0.5444 - accuracy: 0.7323 - val_loss: 0.5454 - val_accuracy: 0.7351\n",
      "Epoch 14/100\n",
      "686/686 [==============================] - 1s 852us/step - loss: 0.5438 - accuracy: 0.7324 - val_loss: 0.5428 - val_accuracy: 0.7367\n",
      "Epoch 15/100\n",
      "686/686 [==============================] - 1s 857us/step - loss: 0.5431 - accuracy: 0.7337 - val_loss: 0.5421 - val_accuracy: 0.7374\n",
      "Epoch 16/100\n",
      "686/686 [==============================] - 1s 857us/step - loss: 0.5429 - accuracy: 0.7324 - val_loss: 0.5409 - val_accuracy: 0.7371\n",
      "Epoch 17/100\n",
      "686/686 [==============================] - 1s 869us/step - loss: 0.5431 - accuracy: 0.7336 - val_loss: 0.5415 - val_accuracy: 0.7387\n",
      "Epoch 18/100\n",
      "686/686 [==============================] - 1s 856us/step - loss: 0.5422 - accuracy: 0.7344 - val_loss: 0.5404 - val_accuracy: 0.7380\n",
      "Epoch 19/100\n",
      "686/686 [==============================] - 1s 844us/step - loss: 0.5416 - accuracy: 0.7342 - val_loss: 0.5423 - val_accuracy: 0.7394\n",
      "Epoch 20/100\n",
      "686/686 [==============================] - 1s 847us/step - loss: 0.5415 - accuracy: 0.7353 - val_loss: 0.5403 - val_accuracy: 0.7389\n",
      "Epoch 21/100\n",
      "686/686 [==============================] - 1s 844us/step - loss: 0.5415 - accuracy: 0.7346 - val_loss: 0.5440 - val_accuracy: 0.7394\n",
      "Epoch 22/100\n",
      "686/686 [==============================] - 1s 854us/step - loss: 0.5416 - accuracy: 0.7342 - val_loss: 0.5445 - val_accuracy: 0.7382\n",
      "Epoch 23/100\n",
      "686/686 [==============================] - 1s 858us/step - loss: 0.5409 - accuracy: 0.7344 - val_loss: 0.5447 - val_accuracy: 0.7400\n",
      "Epoch 24/100\n",
      "686/686 [==============================] - 1s 874us/step - loss: 0.5407 - accuracy: 0.7342 - val_loss: 0.5439 - val_accuracy: 0.7392\n",
      "Epoch 25/100\n",
      "686/686 [==============================] - 1s 867us/step - loss: 0.5407 - accuracy: 0.7352 - val_loss: 0.5414 - val_accuracy: 0.7387\n",
      "Epoch 26/100\n",
      "686/686 [==============================] - 1s 855us/step - loss: 0.5409 - accuracy: 0.7338 - val_loss: 0.5434 - val_accuracy: 0.7385\n",
      "Epoch 27/100\n",
      "686/686 [==============================] - 1s 876us/step - loss: 0.5406 - accuracy: 0.7341 - val_loss: 0.5436 - val_accuracy: 0.7400\n",
      "Epoch 28/100\n",
      "686/686 [==============================] - 1s 869us/step - loss: 0.5399 - accuracy: 0.7345 - val_loss: 0.5398 - val_accuracy: 0.7413\n",
      "Epoch 29/100\n",
      "686/686 [==============================] - 1s 864us/step - loss: 0.5399 - accuracy: 0.7345 - val_loss: 0.5443 - val_accuracy: 0.7374\n",
      "Epoch 30/100\n",
      "686/686 [==============================] - 1s 871us/step - loss: 0.5392 - accuracy: 0.7358 - val_loss: 0.5415 - val_accuracy: 0.7383\n",
      "Epoch 31/100\n",
      "686/686 [==============================] - 1s 859us/step - loss: 0.5402 - accuracy: 0.7368 - val_loss: 0.5423 - val_accuracy: 0.7383\n",
      "Epoch 32/100\n",
      "686/686 [==============================] - 1s 856us/step - loss: 0.5392 - accuracy: 0.7340 - val_loss: 0.5434 - val_accuracy: 0.7407\n",
      "Epoch 33/100\n",
      "686/686 [==============================] - 1s 854us/step - loss: 0.5393 - accuracy: 0.7359 - val_loss: 0.5428 - val_accuracy: 0.7374\n",
      "Epoch 34/100\n",
      "686/686 [==============================] - 1s 867us/step - loss: 0.5391 - accuracy: 0.7345 - val_loss: 0.5429 - val_accuracy: 0.7391\n",
      "Epoch 35/100\n",
      "686/686 [==============================] - 1s 865us/step - loss: 0.5388 - accuracy: 0.7358 - val_loss: 0.5398 - val_accuracy: 0.7407\n",
      "Epoch 36/100\n",
      "686/686 [==============================] - 1s 861us/step - loss: 0.5386 - accuracy: 0.7367 - val_loss: 0.5415 - val_accuracy: 0.7411\n",
      "Epoch 37/100\n",
      "686/686 [==============================] - 1s 888us/step - loss: 0.5384 - accuracy: 0.7346 - val_loss: 0.5447 - val_accuracy: 0.7376\n",
      "Epoch 38/100\n",
      "686/686 [==============================] - 1s 855us/step - loss: 0.5383 - accuracy: 0.7368 - val_loss: 0.5430 - val_accuracy: 0.7363\n",
      "Epoch 39/100\n",
      "686/686 [==============================] - 1s 856us/step - loss: 0.5380 - accuracy: 0.7357 - val_loss: 0.5442 - val_accuracy: 0.7382\n",
      "Epoch 40/100\n",
      "686/686 [==============================] - 1s 883us/step - loss: 0.5384 - accuracy: 0.7355 - val_loss: 0.5410 - val_accuracy: 0.7391\n",
      "Epoch 41/100\n",
      "686/686 [==============================] - 1s 872us/step - loss: 0.5379 - accuracy: 0.7350 - val_loss: 0.5406 - val_accuracy: 0.7402\n",
      "Epoch 42/100\n",
      "686/686 [==============================] - 1s 869us/step - loss: 0.5376 - accuracy: 0.7371 - val_loss: 0.5426 - val_accuracy: 0.7352\n",
      "Epoch 43/100\n",
      "686/686 [==============================] - 1s 863us/step - loss: 0.5375 - accuracy: 0.7356 - val_loss: 0.5443 - val_accuracy: 0.7411\n",
      "Epoch 44/100\n",
      "686/686 [==============================] - 1s 873us/step - loss: 0.5375 - accuracy: 0.7345 - val_loss: 0.5415 - val_accuracy: 0.7382\n",
      "Epoch 45/100\n",
      "686/686 [==============================] - 1s 861us/step - loss: 0.5375 - accuracy: 0.7356 - val_loss: 0.5424 - val_accuracy: 0.7409\n",
      "Epoch 46/100\n",
      "686/686 [==============================] - 1s 867us/step - loss: 0.5375 - accuracy: 0.7360 - val_loss: 0.5415 - val_accuracy: 0.7409\n",
      "Epoch 47/100\n",
      "686/686 [==============================] - 1s 866us/step - loss: 0.5373 - accuracy: 0.7365 - val_loss: 0.5440 - val_accuracy: 0.7402\n",
      "Epoch 48/100\n",
      "686/686 [==============================] - 1s 864us/step - loss: 0.5374 - accuracy: 0.7368 - val_loss: 0.5435 - val_accuracy: 0.7389\n",
      "Epoch 49/100\n",
      "686/686 [==============================] - 1s 859us/step - loss: 0.5369 - accuracy: 0.7358 - val_loss: 0.5416 - val_accuracy: 0.7396\n",
      "Epoch 50/100\n",
      "686/686 [==============================] - 1s 844us/step - loss: 0.5370 - accuracy: 0.7369 - val_loss: 0.5414 - val_accuracy: 0.7392\n",
      "Epoch 51/100\n",
      "686/686 [==============================] - 1s 849us/step - loss: 0.5368 - accuracy: 0.7363 - val_loss: 0.5402 - val_accuracy: 0.7396\n",
      "Epoch 52/100\n",
      "686/686 [==============================] - 1s 845us/step - loss: 0.5364 - accuracy: 0.7376 - val_loss: 0.5446 - val_accuracy: 0.7363\n",
      "Epoch 53/100\n",
      "686/686 [==============================] - 1s 847us/step - loss: 0.5364 - accuracy: 0.7365 - val_loss: 0.5459 - val_accuracy: 0.7402\n",
      "Epoch 54/100\n"
     ]
    },
    {
     "name": "stdout",
     "output_type": "stream",
     "text": [
      "686/686 [==============================] - 1s 854us/step - loss: 0.5368 - accuracy: 0.7370 - val_loss: 0.5419 - val_accuracy: 0.7383\n",
      "Epoch 55/100\n",
      "686/686 [==============================] - 1s 850us/step - loss: 0.5365 - accuracy: 0.7369 - val_loss: 0.5443 - val_accuracy: 0.7362\n",
      "Epoch 56/100\n",
      "686/686 [==============================] - 1s 850us/step - loss: 0.5361 - accuracy: 0.7364 - val_loss: 0.5442 - val_accuracy: 0.7378\n",
      "Epoch 57/100\n",
      "686/686 [==============================] - 1s 848us/step - loss: 0.5360 - accuracy: 0.7368 - val_loss: 0.5426 - val_accuracy: 0.7398\n",
      "Epoch 58/100\n",
      "686/686 [==============================] - 1s 854us/step - loss: 0.5361 - accuracy: 0.7376 - val_loss: 0.5426 - val_accuracy: 0.7403\n",
      "Epoch 59/100\n",
      "686/686 [==============================] - 1s 864us/step - loss: 0.5358 - accuracy: 0.7374 - val_loss: 0.5443 - val_accuracy: 0.7387\n",
      "Epoch 60/100\n",
      "686/686 [==============================] - 1s 861us/step - loss: 0.5356 - accuracy: 0.7371 - val_loss: 0.5445 - val_accuracy: 0.7402\n",
      "Epoch 61/100\n",
      "686/686 [==============================] - 1s 863us/step - loss: 0.5357 - accuracy: 0.7380 - val_loss: 0.5410 - val_accuracy: 0.7396\n",
      "Epoch 62/100\n",
      "686/686 [==============================] - 1s 860us/step - loss: 0.5356 - accuracy: 0.7379 - val_loss: 0.5434 - val_accuracy: 0.7405\n",
      "Epoch 63/100\n",
      "686/686 [==============================] - 1s 859us/step - loss: 0.5354 - accuracy: 0.7382 - val_loss: 0.5433 - val_accuracy: 0.7387\n",
      "Epoch 64/100\n",
      "686/686 [==============================] - 1s 862us/step - loss: 0.5349 - accuracy: 0.7366 - val_loss: 0.5453 - val_accuracy: 0.7345\n",
      "Epoch 65/100\n",
      "686/686 [==============================] - 1s 862us/step - loss: 0.5347 - accuracy: 0.7391 - val_loss: 0.5439 - val_accuracy: 0.7383\n",
      "Epoch 66/100\n",
      "686/686 [==============================] - 1s 863us/step - loss: 0.5351 - accuracy: 0.7379 - val_loss: 0.5453 - val_accuracy: 0.7394\n",
      "Epoch 67/100\n",
      "686/686 [==============================] - 1s 856us/step - loss: 0.5350 - accuracy: 0.7374 - val_loss: 0.5451 - val_accuracy: 0.7391\n",
      "Epoch 68/100\n",
      "686/686 [==============================] - 1s 849us/step - loss: 0.5352 - accuracy: 0.7387 - val_loss: 0.5443 - val_accuracy: 0.7409\n",
      "Epoch 69/100\n",
      "686/686 [==============================] - 1s 845us/step - loss: 0.5350 - accuracy: 0.7375 - val_loss: 0.5441 - val_accuracy: 0.7405\n",
      "Epoch 70/100\n",
      "686/686 [==============================] - 1s 852us/step - loss: 0.5351 - accuracy: 0.7380 - val_loss: 0.5438 - val_accuracy: 0.7403\n",
      "Epoch 71/100\n",
      "686/686 [==============================] - 1s 845us/step - loss: 0.5351 - accuracy: 0.7365 - val_loss: 0.5457 - val_accuracy: 0.7405\n",
      "Epoch 72/100\n",
      "686/686 [==============================] - 1s 852us/step - loss: 0.5342 - accuracy: 0.7376 - val_loss: 0.5455 - val_accuracy: 0.7407\n",
      "Epoch 73/100\n",
      "686/686 [==============================] - 1s 843us/step - loss: 0.5349 - accuracy: 0.7375 - val_loss: 0.5453 - val_accuracy: 0.7354\n",
      "Epoch 74/100\n",
      "686/686 [==============================] - 1s 843us/step - loss: 0.5346 - accuracy: 0.7375 - val_loss: 0.5474 - val_accuracy: 0.7354\n",
      "Epoch 75/100\n",
      "686/686 [==============================] - 1s 852us/step - loss: 0.5346 - accuracy: 0.7376 - val_loss: 0.5431 - val_accuracy: 0.7396\n",
      "Epoch 76/100\n",
      "686/686 [==============================] - 1s 848us/step - loss: 0.5340 - accuracy: 0.7391 - val_loss: 0.5432 - val_accuracy: 0.7389\n",
      "Epoch 77/100\n",
      "686/686 [==============================] - 1s 864us/step - loss: 0.5339 - accuracy: 0.7379 - val_loss: 0.5462 - val_accuracy: 0.7416\n",
      "Epoch 78/100\n",
      "686/686 [==============================] - 1s 864us/step - loss: 0.5343 - accuracy: 0.7375 - val_loss: 0.5466 - val_accuracy: 0.7409\n",
      "Epoch 79/100\n",
      "686/686 [==============================] - 1s 862us/step - loss: 0.5343 - accuracy: 0.7372 - val_loss: 0.5459 - val_accuracy: 0.7382\n",
      "Epoch 80/100\n",
      "686/686 [==============================] - 1s 871us/step - loss: 0.5335 - accuracy: 0.7372 - val_loss: 0.5468 - val_accuracy: 0.7382\n",
      "Epoch 81/100\n",
      "686/686 [==============================] - 1s 860us/step - loss: 0.5341 - accuracy: 0.7378 - val_loss: 0.5459 - val_accuracy: 0.7396\n",
      "Epoch 82/100\n",
      "686/686 [==============================] - 1s 860us/step - loss: 0.5346 - accuracy: 0.7385 - val_loss: 0.5483 - val_accuracy: 0.7394\n",
      "Epoch 83/100\n",
      "686/686 [==============================] - 1s 866us/step - loss: 0.5337 - accuracy: 0.7373 - val_loss: 0.5467 - val_accuracy: 0.7385\n",
      "Epoch 84/100\n",
      "686/686 [==============================] - 1s 864us/step - loss: 0.5336 - accuracy: 0.7378 - val_loss: 0.5466 - val_accuracy: 0.7411\n",
      "Epoch 85/100\n",
      "686/686 [==============================] - 1s 863us/step - loss: 0.5331 - accuracy: 0.7386 - val_loss: 0.5477 - val_accuracy: 0.7367\n",
      "Epoch 86/100\n",
      "686/686 [==============================] - 1s 850us/step - loss: 0.5334 - accuracy: 0.7383 - val_loss: 0.5478 - val_accuracy: 0.7369\n",
      "Epoch 87/100\n",
      "686/686 [==============================] - 1s 851us/step - loss: 0.5333 - accuracy: 0.7381 - val_loss: 0.5493 - val_accuracy: 0.7385\n",
      "Epoch 88/100\n",
      "686/686 [==============================] - 1s 850us/step - loss: 0.5340 - accuracy: 0.7382 - val_loss: 0.5461 - val_accuracy: 0.7389\n",
      "Epoch 89/100\n",
      "686/686 [==============================] - 1s 848us/step - loss: 0.5334 - accuracy: 0.7371 - val_loss: 0.5471 - val_accuracy: 0.7396\n",
      "Epoch 90/100\n",
      "686/686 [==============================] - 1s 852us/step - loss: 0.5334 - accuracy: 0.7386 - val_loss: 0.5521 - val_accuracy: 0.7385\n",
      "Epoch 91/100\n",
      "686/686 [==============================] - 1s 851us/step - loss: 0.5337 - accuracy: 0.7379 - val_loss: 0.5487 - val_accuracy: 0.7413\n",
      "Epoch 92/100\n",
      "686/686 [==============================] - 1s 841us/step - loss: 0.5332 - accuracy: 0.7381 - val_loss: 0.5476 - val_accuracy: 0.7402\n",
      "Epoch 93/100\n",
      "686/686 [==============================] - 1s 851us/step - loss: 0.5333 - accuracy: 0.7379 - val_loss: 0.5492 - val_accuracy: 0.7378\n",
      "Epoch 94/100\n",
      "686/686 [==============================] - 1s 854us/step - loss: 0.5334 - accuracy: 0.7384 - val_loss: 0.5472 - val_accuracy: 0.7391\n",
      "Epoch 95/100\n",
      "686/686 [==============================] - 1s 861us/step - loss: 0.5331 - accuracy: 0.7381 - val_loss: 0.5460 - val_accuracy: 0.7398\n",
      "Epoch 96/100\n",
      "686/686 [==============================] - 1s 858us/step - loss: 0.5334 - accuracy: 0.7375 - val_loss: 0.5486 - val_accuracy: 0.7392\n",
      "Epoch 97/100\n",
      "686/686 [==============================] - 1s 869us/step - loss: 0.5330 - accuracy: 0.7378 - val_loss: 0.5467 - val_accuracy: 0.7411\n",
      "Epoch 98/100\n",
      "686/686 [==============================] - 1s 862us/step - loss: 0.5331 - accuracy: 0.7391 - val_loss: 0.5468 - val_accuracy: 0.7394\n",
      "Epoch 99/100\n",
      "686/686 [==============================] - 1s 864us/step - loss: 0.5326 - accuracy: 0.7392 - val_loss: 0.5515 - val_accuracy: 0.7402\n",
      "Epoch 100/100\n",
      "686/686 [==============================] - 1s 863us/step - loss: 0.5334 - accuracy: 0.7381 - val_loss: 0.5493 - val_accuracy: 0.7383\n"
     ]
    }
   ],
   "source": [
    "# Train the model with scaled data\n",
    "history = nn.fit(X_train_scaled, y_train, epochs=100, batch_size=32, validation_split=0.2)\n"
   ]
  },
  {
   "cell_type": "code",
   "execution_count": 19,
   "metadata": {},
   "outputs": [
    {
     "name": "stdout",
     "output_type": "stream",
     "text": [
      "215/215 - 0s - loss: 0.5621 - accuracy: 0.7274 - 127ms/epoch - 590us/step\n",
      "Loss: 0.5620564818382263, Accuracy: 0.7274052500724792\n"
     ]
    }
   ],
   "source": [
    "# Evaluate the model using the test data\n",
    "model_loss, model_accuracy = nn.evaluate(X_test_scaled,y_test,verbose=2)\n",
    "print(f\"Loss: {model_loss}, Accuracy: {model_accuracy}\")"
   ]
  },
  {
   "cell_type": "code",
   "execution_count": 21,
   "metadata": {},
   "outputs": [],
   "source": [
    "# Save the model to HDF5 file with the specified name\n",
    "nn.save(\"AlphabetSoupCharity.h5\")\n",
    "\n"
   ]
  },
  {
   "cell_type": "code",
   "execution_count": null,
   "metadata": {},
   "outputs": [],
   "source": []
  }
 ],
 "metadata": {
  "kernelspec": {
   "display_name": "Python 3 (ipykernel)",
   "language": "python",
   "name": "python3"
  },
  "language_info": {
   "codemirror_mode": {
    "name": "ipython",
    "version": 3
   },
   "file_extension": ".py",
   "mimetype": "text/x-python",
   "name": "python",
   "nbconvert_exporter": "python",
   "pygments_lexer": "ipython3",
   "version": "3.11.4"
  },
  "vscode": {
   "interpreter": {
    "hash": "31f2aee4e71d21fbe5cf8b01ff0e069b9275f58929596ceb00d14d90e3e16cd6"
   }
  }
 },
 "nbformat": 4,
 "nbformat_minor": 4
}
