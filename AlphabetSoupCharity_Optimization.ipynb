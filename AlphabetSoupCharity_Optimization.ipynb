{
 "cells": [
  {
   "cell_type": "code",
   "execution_count": 1,
   "id": "1d8107db",
   "metadata": {},
   "outputs": [
    {
     "name": "stdout",
     "output_type": "stream",
     "text": [
      "WARNING:tensorflow:From C:\\Users\\sixni\\anaconda3\\Lib\\site-packages\\keras\\src\\losses.py:2976: The name tf.losses.sparse_softmax_cross_entropy is deprecated. Please use tf.compat.v1.losses.sparse_softmax_cross_entropy instead.\n",
      "\n"
     ]
    },
    {
     "data": {
      "text/html": [
       "<div>\n",
       "<style scoped>\n",
       "    .dataframe tbody tr th:only-of-type {\n",
       "        vertical-align: middle;\n",
       "    }\n",
       "\n",
       "    .dataframe tbody tr th {\n",
       "        vertical-align: top;\n",
       "    }\n",
       "\n",
       "    .dataframe thead th {\n",
       "        text-align: right;\n",
       "    }\n",
       "</style>\n",
       "<table border=\"1\" class=\"dataframe\">\n",
       "  <thead>\n",
       "    <tr style=\"text-align: right;\">\n",
       "      <th></th>\n",
       "      <th>EIN</th>\n",
       "      <th>NAME</th>\n",
       "      <th>APPLICATION_TYPE</th>\n",
       "      <th>AFFILIATION</th>\n",
       "      <th>CLASSIFICATION</th>\n",
       "      <th>USE_CASE</th>\n",
       "      <th>ORGANIZATION</th>\n",
       "      <th>STATUS</th>\n",
       "      <th>INCOME_AMT</th>\n",
       "      <th>SPECIAL_CONSIDERATIONS</th>\n",
       "      <th>ASK_AMT</th>\n",
       "      <th>IS_SUCCESSFUL</th>\n",
       "    </tr>\n",
       "  </thead>\n",
       "  <tbody>\n",
       "    <tr>\n",
       "      <th>0</th>\n",
       "      <td>10520599</td>\n",
       "      <td>BLUE KNIGHTS MOTORCYCLE CLUB</td>\n",
       "      <td>T10</td>\n",
       "      <td>Independent</td>\n",
       "      <td>C1000</td>\n",
       "      <td>ProductDev</td>\n",
       "      <td>Association</td>\n",
       "      <td>1</td>\n",
       "      <td>0</td>\n",
       "      <td>N</td>\n",
       "      <td>5000</td>\n",
       "      <td>1</td>\n",
       "    </tr>\n",
       "    <tr>\n",
       "      <th>1</th>\n",
       "      <td>10531628</td>\n",
       "      <td>AMERICAN CHESAPEAKE CLUB CHARITABLE TR</td>\n",
       "      <td>T3</td>\n",
       "      <td>Independent</td>\n",
       "      <td>C2000</td>\n",
       "      <td>Preservation</td>\n",
       "      <td>Co-operative</td>\n",
       "      <td>1</td>\n",
       "      <td>1-9999</td>\n",
       "      <td>N</td>\n",
       "      <td>108590</td>\n",
       "      <td>1</td>\n",
       "    </tr>\n",
       "    <tr>\n",
       "      <th>2</th>\n",
       "      <td>10547893</td>\n",
       "      <td>ST CLOUD PROFESSIONAL FIREFIGHTERS</td>\n",
       "      <td>T5</td>\n",
       "      <td>CompanySponsored</td>\n",
       "      <td>C3000</td>\n",
       "      <td>ProductDev</td>\n",
       "      <td>Association</td>\n",
       "      <td>1</td>\n",
       "      <td>0</td>\n",
       "      <td>N</td>\n",
       "      <td>5000</td>\n",
       "      <td>0</td>\n",
       "    </tr>\n",
       "    <tr>\n",
       "      <th>3</th>\n",
       "      <td>10553066</td>\n",
       "      <td>SOUTHSIDE ATHLETIC ASSOCIATION</td>\n",
       "      <td>T3</td>\n",
       "      <td>CompanySponsored</td>\n",
       "      <td>C2000</td>\n",
       "      <td>Preservation</td>\n",
       "      <td>Trust</td>\n",
       "      <td>1</td>\n",
       "      <td>10000-24999</td>\n",
       "      <td>N</td>\n",
       "      <td>6692</td>\n",
       "      <td>1</td>\n",
       "    </tr>\n",
       "    <tr>\n",
       "      <th>4</th>\n",
       "      <td>10556103</td>\n",
       "      <td>GENETIC RESEARCH INSTITUTE OF THE DESERT</td>\n",
       "      <td>T3</td>\n",
       "      <td>Independent</td>\n",
       "      <td>C1000</td>\n",
       "      <td>Heathcare</td>\n",
       "      <td>Trust</td>\n",
       "      <td>1</td>\n",
       "      <td>100000-499999</td>\n",
       "      <td>N</td>\n",
       "      <td>142590</td>\n",
       "      <td>1</td>\n",
       "    </tr>\n",
       "  </tbody>\n",
       "</table>\n",
       "</div>"
      ],
      "text/plain": [
       "        EIN                                      NAME APPLICATION_TYPE  \\\n",
       "0  10520599              BLUE KNIGHTS MOTORCYCLE CLUB              T10   \n",
       "1  10531628    AMERICAN CHESAPEAKE CLUB CHARITABLE TR               T3   \n",
       "2  10547893        ST CLOUD PROFESSIONAL FIREFIGHTERS               T5   \n",
       "3  10553066            SOUTHSIDE ATHLETIC ASSOCIATION               T3   \n",
       "4  10556103  GENETIC RESEARCH INSTITUTE OF THE DESERT               T3   \n",
       "\n",
       "        AFFILIATION CLASSIFICATION      USE_CASE  ORGANIZATION  STATUS  \\\n",
       "0       Independent          C1000    ProductDev   Association       1   \n",
       "1       Independent          C2000  Preservation  Co-operative       1   \n",
       "2  CompanySponsored          C3000    ProductDev   Association       1   \n",
       "3  CompanySponsored          C2000  Preservation         Trust       1   \n",
       "4       Independent          C1000     Heathcare         Trust       1   \n",
       "\n",
       "      INCOME_AMT SPECIAL_CONSIDERATIONS  ASK_AMT  IS_SUCCESSFUL  \n",
       "0              0                      N     5000              1  \n",
       "1         1-9999                      N   108590              1  \n",
       "2              0                      N     5000              0  \n",
       "3    10000-24999                      N     6692              1  \n",
       "4  100000-499999                      N   142590              1  "
      ]
     },
     "execution_count": 1,
     "metadata": {},
     "output_type": "execute_result"
    }
   ],
   "source": [
    "# Import our dependencies\n",
    "from sklearn.model_selection import train_test_split\n",
    "from sklearn.preprocessing import StandardScaler, OneHotEncoder\n",
    "import pandas as pd\n",
    "import tensorflow as tf\n",
    "from tensorflow.keras.models import Sequential\n",
    "from tensorflow.keras.layers import Dense, Dropout\n",
    "from tensorflow.keras.callbacks import EarlyStopping\n",
    "\n",
    "# Import and read the charity_data.csv.\n",
    "application_df = pd.read_csv(\"https://static.bc-edx.com/data/dl-1-2/m21/lms/starter/charity_data.csv\")\n",
    "application_df.head()"
   ]
  },
  {
   "cell_type": "code",
   "execution_count": 2,
   "id": "0aa7e344",
   "metadata": {},
   "outputs": [],
   "source": [
    "# Preprocessing\n",
    "application_df = application_df.drop([\"EIN\", \"NAME\"], axis=1)\n",
    "categorical_variables = application_df.dtypes[application_df.dtypes == \"object\"].index.tolist()"
   ]
  },
  {
   "cell_type": "code",
   "execution_count": 5,
   "id": "93c7a942",
   "metadata": {},
   "outputs": [],
   "source": [
    "# Preprocessing\n",
    "if 'EIN' in application_df.columns and 'NAME' in application_df.columns:\n",
    "    application_df = application_df.drop([\"EIN\", \"NAME\"], axis=1)\n",
    "categorical_variables = application_df.dtypes[application_df.dtypes == \"object\"].index.tolist()\n",
    "\n",
    "# OneHotEncoding\n",
    "enc = OneHotEncoder()\n",
    "encoded_data = enc.fit_transform(application_df[categorical_variables])\n",
    "encoded_df = pd.DataFrame(encoded_data.toarray(), columns=enc.get_feature_names_out(categorical_variables))\n",
    "\n",
    "# Concatenate encoded df with the original and drop the original categorical variables\n",
    "application_df = pd.concat([\n",
    "    application_df.drop(categorical_variables, axis=1),\n",
    "    encoded_df\n",
    "], axis=1)\n"
   ]
  },
  {
   "cell_type": "code",
   "execution_count": 6,
   "id": "cea959d5",
   "metadata": {},
   "outputs": [],
   "source": [
    "# Split our preprocessed data into our features and target arrays\n",
    "y = application_df[\"IS_SUCCESSFUL\"].values\n",
    "X = application_df.drop([\"IS_SUCCESSFUL\"], axis=1).values\n"
   ]
  },
  {
   "cell_type": "code",
   "execution_count": 7,
   "id": "db4e6add",
   "metadata": {},
   "outputs": [],
   "source": [
    "# Split the preprocessed data into a training and testing dataset\n",
    "X_train, X_test, y_train, y_test = train_test_split(X, y, random_state=42)\n"
   ]
  },
  {
   "cell_type": "code",
   "execution_count": 8,
   "id": "fdeb9366",
   "metadata": {},
   "outputs": [],
   "source": [
    "# StandardScaler instances and fit_transform/train/test data\n",
    "scaler = StandardScaler()\n",
    "X_train_scaled = scaler.fit_transform(X_train)\n",
    "X_test_scaled = scaler.transform(X_test)\n"
   ]
  },
  {
   "cell_type": "code",
   "execution_count": 9,
   "id": "567d030f",
   "metadata": {},
   "outputs": [
    {
     "name": "stdout",
     "output_type": "stream",
     "text": [
      "WARNING:tensorflow:From C:\\Users\\sixni\\anaconda3\\Lib\\site-packages\\keras\\src\\backend.py:873: The name tf.get_default_graph is deprecated. Please use tf.compat.v1.get_default_graph instead.\n",
      "\n"
     ]
    }
   ],
   "source": [
    "# Define the model\n",
    "nn_optimized = Sequential([\n",
    "    Dense(units=128, activation='relu', input_dim=X_train_scaled.shape[1]),\n",
    "    Dropout(0.2),  # Implement dropout\n",
    "    Dense(units=64, activation='relu'),\n",
    "    Dropout(0.2),  # Implement dropout\n",
    "    Dense(units=1, activation='sigmoid')\n",
    "])\n"
   ]
  },
  {
   "cell_type": "code",
   "execution_count": 10,
   "id": "b2463c32",
   "metadata": {},
   "outputs": [
    {
     "name": "stdout",
     "output_type": "stream",
     "text": [
      "WARNING:tensorflow:From C:\\Users\\sixni\\anaconda3\\Lib\\site-packages\\keras\\src\\optimizers\\__init__.py:309: The name tf.train.Optimizer is deprecated. Please use tf.compat.v1.train.Optimizer instead.\n",
      "\n"
     ]
    }
   ],
   "source": [
    "# Compile the model\n",
    "nn_optimized.compile(loss='binary_crossentropy', optimizer='adam', metrics=['accuracy'])\n"
   ]
  },
  {
   "cell_type": "code",
   "execution_count": 11,
   "id": "6b06a4c5",
   "metadata": {},
   "outputs": [],
   "source": [
    "# Implement early stopping to prevent overfitting\n",
    "early_stopping = EarlyStopping(monitor='val_loss', patience=10, restore_best_weights=True)"
   ]
  },
  {
   "cell_type": "code",
   "execution_count": 12,
   "id": "79b09f7b",
   "metadata": {},
   "outputs": [
    {
     "name": "stdout",
     "output_type": "stream",
     "text": [
      "Epoch 1/200\n",
      "WARNING:tensorflow:From C:\\Users\\sixni\\anaconda3\\Lib\\site-packages\\keras\\src\\utils\\tf_utils.py:492: The name tf.ragged.RaggedTensorValue is deprecated. Please use tf.compat.v1.ragged.RaggedTensorValue instead.\n",
      "\n",
      "WARNING:tensorflow:From C:\\Users\\sixni\\anaconda3\\Lib\\site-packages\\keras\\src\\engine\\base_layer_utils.py:384: The name tf.executing_eagerly_outside_functions is deprecated. Please use tf.compat.v1.executing_eagerly_outside_functions instead.\n",
      "\n",
      "644/644 - 1s - loss: 0.5889 - accuracy: 0.7119 - val_loss: 0.5612 - val_accuracy: 0.7349 - 1s/epoch - 2ms/step\n",
      "Epoch 2/200\n",
      "644/644 - 1s - loss: 0.5642 - accuracy: 0.7232 - val_loss: 0.5522 - val_accuracy: 0.7380 - 679ms/epoch - 1ms/step\n",
      "Epoch 3/200\n",
      "644/644 - 1s - loss: 0.5582 - accuracy: 0.7256 - val_loss: 0.5523 - val_accuracy: 0.7361 - 672ms/epoch - 1ms/step\n",
      "Epoch 4/200\n",
      "644/644 - 1s - loss: 0.5573 - accuracy: 0.7283 - val_loss: 0.5562 - val_accuracy: 0.7366 - 670ms/epoch - 1ms/step\n",
      "Epoch 5/200\n",
      "644/644 - 1s - loss: 0.5545 - accuracy: 0.7284 - val_loss: 0.5501 - val_accuracy: 0.7370 - 675ms/epoch - 1ms/step\n",
      "Epoch 6/200\n",
      "644/644 - 1s - loss: 0.5533 - accuracy: 0.7310 - val_loss: 0.5532 - val_accuracy: 0.7407 - 662ms/epoch - 1ms/step\n",
      "Epoch 7/200\n",
      "644/644 - 1s - loss: 0.5532 - accuracy: 0.7313 - val_loss: 0.5502 - val_accuracy: 0.7374 - 663ms/epoch - 1ms/step\n",
      "Epoch 8/200\n",
      "644/644 - 1s - loss: 0.5529 - accuracy: 0.7293 - val_loss: 0.5488 - val_accuracy: 0.7390 - 679ms/epoch - 1ms/step\n",
      "Epoch 9/200\n",
      "644/644 - 1s - loss: 0.5513 - accuracy: 0.7307 - val_loss: 0.5455 - val_accuracy: 0.7403 - 672ms/epoch - 1ms/step\n",
      "Epoch 10/200\n",
      "644/644 - 1s - loss: 0.5492 - accuracy: 0.7318 - val_loss: 0.5487 - val_accuracy: 0.7378 - 667ms/epoch - 1ms/step\n",
      "Epoch 11/200\n",
      "644/644 - 1s - loss: 0.5501 - accuracy: 0.7312 - val_loss: 0.5502 - val_accuracy: 0.7322 - 677ms/epoch - 1ms/step\n",
      "Epoch 12/200\n",
      "644/644 - 1s - loss: 0.5501 - accuracy: 0.7322 - val_loss: 0.5502 - val_accuracy: 0.7386 - 658ms/epoch - 1ms/step\n",
      "Epoch 13/200\n",
      "644/644 - 1s - loss: 0.5497 - accuracy: 0.7305 - val_loss: 0.5508 - val_accuracy: 0.7382 - 673ms/epoch - 1ms/step\n",
      "Epoch 14/200\n",
      "644/644 - 1s - loss: 0.5492 - accuracy: 0.7311 - val_loss: 0.5508 - val_accuracy: 0.7374 - 663ms/epoch - 1ms/step\n",
      "Epoch 15/200\n",
      "644/644 - 1s - loss: 0.5472 - accuracy: 0.7327 - val_loss: 0.5509 - val_accuracy: 0.7386 - 658ms/epoch - 1ms/step\n",
      "Epoch 16/200\n",
      "644/644 - 1s - loss: 0.5473 - accuracy: 0.7318 - val_loss: 0.5497 - val_accuracy: 0.7390 - 666ms/epoch - 1ms/step\n",
      "Epoch 17/200\n",
      "644/644 - 1s - loss: 0.5473 - accuracy: 0.7303 - val_loss: 0.5474 - val_accuracy: 0.7399 - 674ms/epoch - 1ms/step\n",
      "Epoch 18/200\n",
      "644/644 - 1s - loss: 0.5478 - accuracy: 0.7327 - val_loss: 0.5514 - val_accuracy: 0.7390 - 660ms/epoch - 1ms/step\n",
      "Epoch 19/200\n",
      "644/644 - 1s - loss: 0.5458 - accuracy: 0.7323 - val_loss: 0.5483 - val_accuracy: 0.7397 - 682ms/epoch - 1ms/step\n"
     ]
    }
   ],
   "source": [
    "# Train the model\n",
    "fit_model = nn_optimized.fit(\n",
    "    X_train_scaled, \n",
    "    y_train, \n",
    "    epochs=200, \n",
    "    validation_split=0.2,  # Use part of the training data for validation\n",
    "    callbacks=[early_stopping], \n",
    "    verbose=2\n",
    ")"
   ]
  },
  {
   "cell_type": "code",
   "execution_count": 13,
   "id": "ea5b4b73",
   "metadata": {},
   "outputs": [
    {
     "name": "stdout",
     "output_type": "stream",
     "text": [
      "268/268 - 0s - loss: 0.5528 - accuracy: 0.7315 - 156ms/epoch - 584us/step\n",
      "Loss: 0.5527617931365967, Accuracy: 0.7315452098846436\n"
     ]
    }
   ],
   "source": [
    "# Evaluate the model using the test data to get the loss and accuracy\n",
    "model_loss, model_accuracy = nn_optimized.evaluate(X_test_scaled, y_test, verbose=2)\n",
    "\n",
    "# Print the model loss and accuracy results\n",
    "print(f\"Loss: {model_loss}, Accuracy: {model_accuracy}\")\n"
   ]
  },
  {
   "cell_type": "code",
   "execution_count": 14,
   "id": "ae98f0fb",
   "metadata": {},
   "outputs": [
    {
     "name": "stderr",
     "output_type": "stream",
     "text": [
      "C:\\Users\\sixni\\anaconda3\\Lib\\site-packages\\keras\\src\\engine\\training.py:3103: UserWarning: You are saving your model as an HDF5 file via `model.save()`. This file format is considered legacy. We recommend using instead the native Keras format, e.g. `model.save('my_model.keras')`.\n",
      "  saving_api.save_model(\n"
     ]
    }
   ],
   "source": [
    "# Save the model\n",
    "nn_optimized.save(\"AlphabetSoupCharity_Optimization.h5\")\n"
   ]
  },
  {
   "cell_type": "code",
   "execution_count": null,
   "id": "ed399a43",
   "metadata": {},
   "outputs": [],
   "source": []
  }
 ],
 "metadata": {
  "kernelspec": {
   "display_name": "Python 3 (ipykernel)",
   "language": "python",
   "name": "python3"
  },
  "language_info": {
   "codemirror_mode": {
    "name": "ipython",
    "version": 3
   },
   "file_extension": ".py",
   "mimetype": "text/x-python",
   "name": "python",
   "nbconvert_exporter": "python",
   "pygments_lexer": "ipython3",
   "version": "3.11.4"
  }
 },
 "nbformat": 4,
 "nbformat_minor": 5
}
